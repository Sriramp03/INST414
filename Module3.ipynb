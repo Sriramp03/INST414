{
  "nbformat": 4,
  "nbformat_minor": 0,
  "metadata": {
    "colab": {
      "provenance": []
    },
    "kernelspec": {
      "name": "python3",
      "display_name": "Python 3"
    },
    "language_info": {
      "name": "python"
    }
  },
  "cells": [
    {
      "cell_type": "code",
      "execution_count": 3,
      "metadata": {
        "colab": {
          "base_uri": "https://localhost:8080/"
        },
        "id": "24VqasC7kDLy",
        "outputId": "e63bc663-83d9-4b6d-a866-6128bd1fafc3"
      },
      "outputs": [
        {
          "output_type": "stream",
          "name": "stdout",
          "text": [
            "Top 10 Songs Similar to 'mohabbat bhi jhoothi':\n",
            "                                  track_name         artist_name  \\\n",
            "18235                                   wave        milt jackson   \n",
            "18822                       nothing personal     michael brecker   \n",
            "29                 maagata maagata janm gele     lata mangeshkar   \n",
            "17777                      mean what you say          thad jones   \n",
            "19021                               careless        glenn miller   \n",
            "17535            someday my prince will come          bill evans   \n",
            "13360                          good shepherd  jefferson airplane   \n",
            "17445                               part iii      duke ellington   \n",
            "19419  penthouse serenade (when we're alone)       nat king cole   \n",
            "17716                   end of a love affair      wes montgomery   \n",
            "\n",
            "       Similarity Score  \n",
            "18235          0.999671  \n",
            "18822          0.999179  \n",
            "29             0.998395  \n",
            "17777          0.998101  \n",
            "19021          0.997480  \n",
            "17535          0.996908  \n",
            "13360          0.996892  \n",
            "17445          0.996865  \n",
            "19419          0.995525  \n",
            "17716          0.995490  \n",
            "\n",
            "Top 10 Songs Similar to 'i believe':\n",
            "  track_name    artist_name  Similarity Score\n",
            "1  i believe  frankie laine               1.0\n",
            "\n",
            "Top 10 Songs Similar to 'patricia':\n",
            "                          track_name          artist_name  Similarity Score\n",
            "4537                     barbie girl                 aqua          0.995893\n",
            "19799                         lavish             mark rae          0.995890\n",
            "24656         get the balance right!         depeche mode          0.995562\n",
            "20587                   time for tea        11 acorn lane          0.995302\n",
            "2573        gentlemen take polaroids                japan          0.991953\n",
            "3521                    walking away  information society          0.990884\n",
            "24370  the bed's too big without you           the police          0.988629\n",
            "15263                     guitar man            j.j. cale          0.988410\n",
            "27872                   what is love             no mercy          0.988372\n",
            "27098                   beach bummer          no vacation          0.987960\n"
          ]
        }
      ],
      "source": [
        "import pandas as pd\n",
        "from sklearn.metrics.pairwise import cosine_similarity\n",
        "from sklearn.preprocessing import StandardScaler\n",
        "import numpy as np\n",
        "\n",
        "df = pd.read_csv('/content/tcc_ceds_music[1].csv')\n",
        "\n",
        "features = df[['danceability', 'energy', 'valence', 'instrumentalness']]\n",
        "\n",
        "scaler = StandardScaler()\n",
        "scaled_features = scaler.fit_transform(features)\n",
        "\n",
        "def find_top_similar_songs(query_song_name, num_top=10):\n",
        "    if query_song_name not in df['track_name'].values:\n",
        "        return pd.DataFrame({'Error': [f\"'{query_song_name}' not found in the dataset.\"]})\n",
        "\n",
        "    query_song_features = scaled_features[df['track_name'] == query_song_name]\n",
        "\n",
        "    similarities = cosine_similarity(query_song_features, scaled_features).flatten()\n",
        "\n",
        "    top_indices = np.argsort(similarities)[-num_top-1:-1][::-1]\n",
        "    top_indices = top_indices[top_indices < len(df)]\n",
        "    top_similar_songs = df.iloc[top_indices][['track_name', 'artist_name']].copy()\n",
        "    top_similar_songs['Similarity Score'] = similarities[top_indices]\n",
        "    return top_similar_songs\n",
        "\n",
        "query_songs = [\"mohabbat bhi jhoothi\", \"i believe\", \"patricia\"]\n",
        "\n",
        "top_similar_mohabbat = find_top_similar_songs(query_songs[0])\n",
        "top_similar_ibelieve = find_top_similar_songs(query_songs[1])\n",
        "top_similar_patricia = find_top_similar_songs(query_songs[2])\n",
        "\n",
        "print(\"Top 10 Songs Similar to 'mohabbat bhi jhoothi':\")\n",
        "print(top_similar_mohabbat)\n",
        "\n",
        "print(\"\\nTop 10 Songs Similar to 'i believe':\")\n",
        "print(top_similar_ibelieve)\n",
        "\n",
        "print(\"\\nTop 10 Songs Similar to 'patricia':\")\n",
        "print(top_similar_patricia)\n"
      ]
    }
  ]
}